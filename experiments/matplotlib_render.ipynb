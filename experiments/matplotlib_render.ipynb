{
 "cells": [
  {
   "cell_type": "code",
   "id": "initial_id",
   "metadata": {
    "collapsed": true
   },
   "source": [
    "import cv2\n",
    "import pylab as plt\n",
    "import numpy as np"
   ],
   "outputs": [],
   "execution_count": null
  },
  {
   "metadata": {},
   "cell_type": "code",
   "source": [
    "# read image and find image shape\n",
    "img = cv2.imread(\"../_demo/images/img.png\", cv2.IMREAD_GRAYSCALE)\n",
    "h,w = img.shape\n",
    "\n",
    "# optional: crop it to make it a square\n",
    "img_c = img[145:145+1080,:]\n",
    "h_c,w_c = img_c.shape\n",
    "\n",
    "# resize the image to about 100 x 100 (this number can vary)\n",
    "img_r = cv2.resize(img_c, (w_c//10,h_c//10), interpolation = cv2.INTER_AREA)\n",
    "h_r,w_r = img_r.shape"
   ],
   "id": "5adf3b201ace81ad",
   "outputs": [],
   "execution_count": null
  },
  {
   "metadata": {},
   "cell_type": "code",
   "source": [
    "lX = []\n",
    "lY = []\n",
    "lS = []\n",
    "lPoints = []\n",
    "for ii in range(h_r):\n",
    "    for jj in range(w_r):\n",
    "        lX.append(ii)\n",
    "        lY.append(jj)\n",
    "        lS.append((np.max(img_r) - img_r[ii][jj]))\n",
    "lY.reverse()\n",
    "lX.reverse()\n",
    "lPoints.reverse()"
   ],
   "id": "7859c019993ce9e7",
   "outputs": [],
   "execution_count": null
  },
  {
   "metadata": {},
   "cell_type": "code",
   "source": [
    "fig = plt.figure(figsize=(50,50),facecolor='white')\n",
    "plt.scatter(lY,lX,s=3000*np.log10(np.array(lS)/100+0.01),alpha=.85,edgecolors='none',c='black')\n",
    "plt.axis('off')\n",
    "plt.savefig('matplotlib/Art_v0.png',dpi=500)"
   ],
   "id": "84819a60e34fa429",
   "outputs": [],
   "execution_count": null
  },
  {
   "metadata": {},
   "cell_type": "code",
   "source": [
    "lY = np.array(lY)\n",
    "lX = np.array(lX)\n",
    "fig = plt.figure(figsize=(100,100), facecolor='white')\n",
    "# now we iterate a few times\n",
    "for _ in range(10):\n",
    "    plt.scatter(lY + 0.5*np.random.normal(size=len(lY)),lX + 0.1*np.random.normal(size=len(lX)),s=500*np.log10(np.array(lS)/100+0.01),alpha=.85,edgecolors='none')\n",
    "\n",
    "plt.axis('off')\n",
    "plt.savefig('matplotlib/Art_v1.png',dpi=300) #dpi is the resolution in dots per inch;"
   ],
   "id": "ff45dff82d88c037",
   "outputs": [],
   "execution_count": null
  }
 ],
 "metadata": {
  "kernelspec": {
   "display_name": "Python 3",
   "language": "python",
   "name": "python3"
  },
  "language_info": {
   "codemirror_mode": {
    "name": "ipython",
    "version": 2
   },
   "file_extension": ".py",
   "mimetype": "text/x-python",
   "name": "python",
   "nbconvert_exporter": "python",
   "pygments_lexer": "ipython2",
   "version": "2.7.6"
  }
 },
 "nbformat": 4,
 "nbformat_minor": 5
}
